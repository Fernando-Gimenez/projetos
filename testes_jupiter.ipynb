{
 "cells": [
  {
   "cell_type": "code",
   "execution_count": 2,
   "metadata": {},
   "outputs": [],
   "source": [
    "import pyautogui\n",
    "import time\n",
    "\n",
    "        \n",
    "pyautogui.press('win')\n",
    "time.sleep(10)\n",
    "pyautogui.write('tibia')\n",
    "time.sleep(4)\n",
    "pyautogui.press('enter')\n",
    "time.sleep(40)\n",
    "pyautogui.write('Fernando1*')\n"
   ]
  },
  {
   "cell_type": "code",
   "execution_count": 7,
   "metadata": {},
   "outputs": [
    {
     "name": "stdout",
     "output_type": "stream",
     "text": [
      "Au au!\n",
      "Meu nome é Rex e tenho 5 anos.\n"
     ]
    }
   ],
   "source": [
    "class Cachorro():\n",
    "    def __init__(self, nome, idade):\n",
    "        self.nome = nome\n",
    "        self.idade = idade\n",
    "    def latir(self):\n",
    "        print(\"Au au!\")\n",
    "    def raca(self):\n",
    "        print(f\"Meu nome é {self.nome} e tenho {self.idade} anos.\")\n",
    "        \n",
    "pitbull = Cachorro(\"Rex\", 5)\n",
    "\n",
    "pitbull.latir()\n",
    "pitbull.raca()\n"
   ]
  },
  {
   "cell_type": "code",
   "execution_count": 10,
   "metadata": {},
   "outputs": [],
   "source": [
    "import pandas as pd\n",
    "tabela = pd.read_excel(r\"C:\\Users\\Fernando Gimenez\\Desktop\\Diárias IS - FREELA 2023.xlsx\")"
   ]
  },
  {
   "cell_type": "code",
   "execution_count": 5,
   "metadata": {},
   "outputs": [],
   "source": [
    "from PIL import Image\n",
    "\n",
    "imagem = Image.open(r\"C:\\Users\\Fernando Gimenez\\Desktop\\WO\\Alignment_Grid.png\")"
   ]
  },
  {
   "cell_type": "code",
   "execution_count": 6,
   "metadata": {},
   "outputs": [
    {
     "name": "stdout",
     "output_type": "stream",
     "text": [
      "PNG\n",
      "(5000, 1024)\n",
      "P\n"
     ]
    }
   ],
   "source": [
    "from PIL import Image\n",
    "\n",
    "# Abrir a imagem\n",
    "imagem = Image.open(r\"C:\\Users\\Fernando Gimenez\\Desktop\\WO\\Alignment_Grid.png\")\n",
    "\n",
    "# Mostrar informações da imagem\n",
    "print(imagem.format)\n",
    "print(imagem.size)\n",
    "print(imagem.mode)\n",
    "\n",
    "# Exibir a imagem\n",
    "imagem.show()\n"
   ]
  },
  {
   "cell_type": "code",
   "execution_count": 7,
   "metadata": {},
   "outputs": [],
   "source": [
    "\n",
    "from PIL import Image\n",
    "\n",
    "# Abrir a imagem\n",
    "imagem = Image.open(r\"C:\\Users\\Fernando Gimenez\\Desktop\\WO\\Alignment_Grid.png\")\n",
    "\n",
    "# Exibir a imagem\n",
    "imagem.show()"
   ]
  },
  {
   "cell_type": "code",
   "execution_count": 1,
   "metadata": {},
   "outputs": [
    {
     "ename": "SyntaxError",
     "evalue": "invalid syntax (67532228.py, line 4)",
     "output_type": "error",
     "traceback": [
      "\u001b[1;36m  Cell \u001b[1;32mIn[1], line 4\u001b[1;36m\u001b[0m\n\u001b[1;33m    PyInstaller --onefile calculadora.py\u001b[0m\n\u001b[1;37m                          ^\u001b[0m\n\u001b[1;31mSyntaxError\u001b[0m\u001b[1;31m:\u001b[0m invalid syntax\n"
     ]
    }
   ],
   "source": [
    "import PyInstaller\n",
    "\n",
    "\n",
    "PyInstaller --onefile calculadora.py\n"
   ]
  }
 ],
 "metadata": {
  "kernelspec": {
   "display_name": "base",
   "language": "python",
   "name": "python3"
  },
  "language_info": {
   "codemirror_mode": {
    "name": "ipython",
    "version": 3
   },
   "file_extension": ".py",
   "mimetype": "text/x-python",
   "name": "python",
   "nbconvert_exporter": "python",
   "pygments_lexer": "ipython3",
   "version": "3.9.9"
  },
  "orig_nbformat": 4
 },
 "nbformat": 4,
 "nbformat_minor": 2
}
