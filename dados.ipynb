{
 "cells": [
  {
   "cell_type": "code",
   "execution_count": 10,
   "metadata": {},
   "outputs": [
    {
     "name": "stdout",
     "output_type": "stream",
     "text": [
      "dados diferentes\n",
      "(3, 5)\n",
      "8\n"
     ]
    }
   ],
   "source": [
    "# rodar dados\n",
    "\n",
    "from random import randint\n",
    "\n",
    "dado1 = randint(1, 6)\n",
    "dado2 = randint(1, 6)\n",
    "soma = dado1 + dado2\n",
    "dados = dado1, dado2\n",
    "\n",
    "while True:\n",
    "    if dado1 == dado2:\n",
    "        print('dados iguais jogue de novo')\n",
    "        break\n",
    "    elif soma >= 10:\n",
    "        print('mumero alto')\n",
    "        break\n",
    "    elif soma <= 5:\n",
    "        print('numero baixo')\n",
    "        break  \n",
    "    else:\n",
    "        print('dados diferentes')\n",
    "        break\n",
    "print(dados)\n",
    "print(soma)"
   ]
  }
 ],
 "metadata": {
  "kernelspec": {
   "display_name": "Python 3",
   "language": "python",
   "name": "python3"
  },
  "language_info": {
   "codemirror_mode": {
    "name": "ipython",
    "version": 3
   },
   "file_extension": ".py",
   "mimetype": "text/x-python",
   "name": "python",
   "nbconvert_exporter": "python",
   "pygments_lexer": "ipython3",
   "version": "3.9.9"
  },
  "orig_nbformat": 4
 },
 "nbformat": 4,
 "nbformat_minor": 2
}
