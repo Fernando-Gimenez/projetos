{
 "cells": [
  {
   "cell_type": "code",
   "execution_count": 1,
   "metadata": {},
   "outputs": [
    {
     "data": {
      "text/plain": [
       "'rebeca'"
      ]
     },
     "execution_count": 1,
     "metadata": {},
     "output_type": "execute_result"
    }
   ],
   "source": [
    "lista = ['fernando', 'juliana', 'alice', 'rebeca']\n",
    "lista[3]"
   ]
  },
  {
   "cell_type": "code",
   "execution_count": 105,
   "metadata": {},
   "outputs": [
    {
     "data": {
      "text/plain": [
       "'rebeca'"
      ]
     },
     "execution_count": 105,
     "metadata": {},
     "output_type": "execute_result"
    }
   ],
   "source": [
    "dicionario = {'alunos': ['fernando','juliana','alice', 'rebeca'],'clase': ['PRÉ2B']}\n",
    "dicionario ['alunos'][3]   \n",
    "\n",
    "#for alunos in dicionario['alunos']:\n",
    "    #print((alunos))\n",
    "\n",
    "#for clase in dicionario['clase']:\n",
    "    #print(clase)\n",
    "#dicionario ['alunos'][1] \n",
    "\n",
    "\n",
    "\n",
    "\n"
   ]
  },
  {
   "cell_type": "code",
   "execution_count": 27,
   "metadata": {},
   "outputs": [
    {
     "name": "stdout",
     "output_type": "stream",
     "text": [
      "minha idade é 40\n"
     ]
    }
   ],
   "source": [
    "# interpolação\n",
    "#exemplo\n",
    "\n",
    "idade = 40\n",
    "\n",
    "#print('minha idade é: {}'.format(idade))\n",
    "print(f'minha idade é {idade}')"
   ]
  },
  {
   "cell_type": "code",
   "execution_count": 30,
   "metadata": {},
   "outputs": [
    {
     "name": "stdout",
     "output_type": "stream",
     "text": [
      "['rebeca']\n"
     ]
    }
   ],
   "source": [
    "lista_alunos = []\n",
    "aluno = input('nome do aluno:')\n",
    "lista_alunos.append(aluno)\n",
    "print(lista_alunos)\n"
   ]
  },
  {
   "cell_type": "code",
   "execution_count": 1,
   "metadata": {},
   "outputs": [
    {
     "name": "stdout",
     "output_type": "stream",
     "text": [
      "['fer']\n",
      "['fer', 'alice']\n"
     ]
    }
   ],
   "source": [
    "lista_alunos = []\n",
    "while len (lista_alunos) <2:\n",
    "    aluno = input('nome do aluno:')\n",
    "    lista_alunos.append(aluno)\n",
    "    print(lista_alunos)"
   ]
  },
  {
   "cell_type": "code",
   "execution_count": 38,
   "metadata": {},
   "outputs": [
    {
     "name": "stdout",
     "output_type": "stream",
     "text": [
      "False\n"
     ]
    }
   ],
   "source": [
    "a = int(input('primeiro numero'))\n",
    "b = int(input('segundo numero'))\n",
    "c = int(input('terceiro numero'))\n",
    "\n",
    "resultado = (a + b == c) or (a + c == b) or (b + c == a)\n",
    "print(resultado)  "
   ]
  },
  {
   "cell_type": "code",
   "execution_count": null,
   "metadata": {},
   "outputs": [],
   "source": []
  },
  {
   "cell_type": "code",
   "execution_count": 37,
   "metadata": {},
   "outputs": [
    {
     "name": "stdout",
     "output_type": "stream",
     "text": [
      "maior: 5\n",
      "intermdiario: 3\n",
      "menor: 1\n"
     ]
    }
   ],
   "source": [
    "# a = 3\n",
    "# b = 2\n",
    "# c = 5\n",
    "\n",
    "a = int(input('primeiro numero'))\n",
    "b = int(input('segundo numero'))\n",
    "c = int(input('terceiro numero'))\n",
    "\n",
    "maior = max(a, b, c)\n",
    "menor = min(a, b, c)  \n",
    "\n",
    "if a != maior and a != menor:\n",
    "    intermediario = a\n",
    "elif b != maior and b != menor:\n",
    "    intermediario = b\n",
    "else:\n",
    "    intermediario = c  \n",
    "        \n",
    "print('maior:', maior) \n",
    "print('intermdiario:', intermediario)\n",
    "print('menor:', menor)                    "
   ]
  }
 ],
 "metadata": {
  "kernelspec": {
   "display_name": "Python 3",
   "language": "python",
   "name": "python3"
  },
  "language_info": {
   "codemirror_mode": {
    "name": "ipython",
    "version": 3
   },
   "file_extension": ".py",
   "mimetype": "text/x-python",
   "name": "python",
   "nbconvert_exporter": "python",
   "pygments_lexer": "ipython3",
   "version": "3.9.9"
  },
  "orig_nbformat": 4
 },
 "nbformat": 4,
 "nbformat_minor": 2
}
