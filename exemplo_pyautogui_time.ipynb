{
 "cells": [
  {
   "cell_type": "code",
   "execution_count": null,
   "metadata": {},
   "outputs": [],
   "source": [
    "import pyautogui\n",
    "import time\n",
    "\n",
    "# pyautogui automatizar mouse teclado e tela do computador\n",
    "\n",
    "# pyautogui.click = clique com o mouse \n",
    "# pyautogui.write = escrever um texto\n",
    "# pyautogui.press = apertar uma tecla\n",
    "# pyautogui.hotkey = apertar uma combinação de teclas\n",
    "\n",
    "\n",
    "# exemplo\n",
    "pyautogui.hotkey('ctrl', 't')\n",
    "pyautogui.write('https://coin360.com/')\n",
    "time.sleep(3)\n",
    "pyautogui.press('enter')\n",
    "pyautogui.moveTo(1064, 0,duration=4, tween=pyautogui.easeInOutQuad)\n",
    "time.sleep(3)\n",
    "pyautogui.moveTo(248, 90,duration=4, tween=pyautogui.easeInOutQuad)\n",
    "pyautogui.mouseDown(248, 90,duration=3,tween=pyautogui.easeInOutQuad)\n",
    "pyautogui.moveTo(1636, 888, duration=3)\n",
    "pyautogui.click()"
   ]
  },
  {
   "cell_type": "code",
   "execution_count": null,
   "metadata": {},
   "outputs": [],
   "source": [
    "import pyautogui\n",
    "import time\n",
    "\n",
    "pyautogui.press('win')\n",
    "pyautogui.write('tibia')\n",
    "pyautogui.press('enter')\n",
    "time.sleep(33)\n",
    "pyautogui.write('Fernando1*')\n",
    "pyautogui.press('enter')\n",
    "pyautogui.hotkey('alt', 'tab')\n",
    "time.sleep(6)\n",
    "pyautogui.hotkey('ctrl', 't')\n",
    "pyautogui.moveTo(108, 81,duration=3, tween=pyautogui.easeInOutQuad)\n",
    "pyautogui.click()\n",
    "pyautogui.moveTo(648, 292,duration=3, tween=pyautogui.easeInOutQuad)\n",
    "time.sleep(5)\n",
    "pyautogui.click()\n",
    "pyautogui.mouseDown(338, 446,duration=2,tween=pyautogui.easeInOutQuad)\n",
    "pyautogui.moveTo(381, 443, duration=3)\n",
    "pyautogui.hotkey('ctrl', 'c')\n",
    "pyautogui.hotkey('alt', 'tab')\n",
    "time.sleep(3)\n",
    "pyautogui.hotkey('ctrl', 'v')\n",
    "pyautogui.press('enter')\n",
    "pyautogui.press('down')\n",
    "pyautogui.press('enter')"
   ]
  }
 ],
 "metadata": {
  "language_info": {
   "name": "python"
  },
  "orig_nbformat": 4
 },
 "nbformat": 4,
 "nbformat_minor": 2
}
