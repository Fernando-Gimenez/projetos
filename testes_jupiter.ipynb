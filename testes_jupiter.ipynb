{
 "cells": [
  {
   "cell_type": "code",
   "execution_count": 8,
   "metadata": {},
   "outputs": [],
   "source": [
    "import pyautogui\n",
    "import time\n",
    "\n",
    "        \n",
    "pyautogui.press('win')\n",
    "time.sleep(10)\n",
    "pyautogui.write('tibia')\n",
    "time.sleep(4)\n",
    "pyautogui.press('enter')\n"
   ]
  },
  {
   "cell_type": "code",
   "execution_count": 7,
   "metadata": {},
   "outputs": [
    {
     "name": "stdout",
     "output_type": "stream",
     "text": [
      "Au au!\n",
      "Meu nome é Rex e tenho 5 anos.\n"
     ]
    }
   ],
   "source": [
    "class Cachorro():\n",
    "    def __init__(self, nome, idade):\n",
    "        self.nome = nome\n",
    "        self.idade = idade\n",
    "    def latir(self):\n",
    "        print(\"Au au!\")\n",
    "    def raca(self):\n",
    "        print(f\"Meu nome é {self.nome} e tenho {self.idade} anos.\")\n",
    "        \n",
    "pitbull = Cachorro(\"Rex\", 5)\n",
    "\n",
    "pitbull.latir()\n",
    "pitbull.raca()\n"
   ]
  },
  {
   "cell_type": "code",
   "execution_count": 10,
   "metadata": {},
   "outputs": [],
   "source": [
    "import pandas as pd\n",
    "tabela = pd.read_excel(r\"C:\\Users\\Fernando Gimenez\\Desktop\\Diárias IS - FREELA 2023.xlsx\")"
   ]
  },
  {
   "cell_type": "code",
   "execution_count": null,
   "metadata": {},
   "outputs": [],
   "source": []
  },
  {
   "cell_type": "code",
   "execution_count": null,
   "metadata": {},
   "outputs": [],
   "source": []
  },
  {
   "cell_type": "code",
   "execution_count": null,
   "metadata": {},
   "outputs": [],
   "source": []
  }
 ],
 "metadata": {
  "kernelspec": {
   "display_name": "base",
   "language": "python",
   "name": "python3"
  },
  "language_info": {
   "codemirror_mode": {
    "name": "ipython",
    "version": 3
   },
   "file_extension": ".py",
   "mimetype": "text/x-python",
   "name": "python",
   "nbconvert_exporter": "python",
   "pygments_lexer": "ipython3",
   "version": "3.9.9"
  },
  "orig_nbformat": 4
 },
 "nbformat": 4,
 "nbformat_minor": 2
}
