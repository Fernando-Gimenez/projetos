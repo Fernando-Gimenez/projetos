{
 "cells": [
  {
   "cell_type": "code",
   "execution_count": 2,
   "metadata": {},
   "outputs": [
    {
     "name": "stdout",
     "output_type": "stream",
     "text": [
      "dados diferentes\n",
      "(4, 2)\n",
      "6\n"
     ]
    }
   ],
   "source": [
    "# rodar dados\n",
    "\n",
    "from random import randint\n",
    "\n",
    "dado1 = randint(1, 6)\n",
    "dado2 = randint(1, 6)\n",
    "soma = dado1 + dado2\n",
    "dados = dado1, dado2\n",
    "\n",
    "while True:\n",
    "    if dado1 == dado2:\n",
    "        print('dados iguais jogue de novo')\n",
    "        break\n",
    "    elif soma >= 10:\n",
    "        print('mumero alto')\n",
    "        break\n",
    "    elif soma <= 5:\n",
    "        print('numero baixo')\n",
    "        break  \n",
    "    else:\n",
    "        print('dados diferentes')\n",
    "        break\n",
    "print(dados)\n",
    "print(soma)"
   ]
  },
  {
   "cell_type": "code",
   "execution_count": null,
   "metadata": {},
   "outputs": [],
   "source": [
    "from random import randint\n",
    "\n",
    "#numero randomico de 1 a 50\n",
    "numero = randint(1, 50)\n",
    "\n",
    "#numero de tentativas \n",
    "tentativas = 3\n",
    "#enquanto um numero maior que 0, chute um numero inteiro (int) se o chute for igual ao nuimero randomico (randit) imprima parabéns!\n",
    "while tentativas > 0:\n",
    "    chute = int(input('numero do chute'))\n",
    "    diferenca = numero - chute\n",
    "    if chute == numero:\n",
    "        print('parabéns') \n",
    "        break \n",
    "    elif diferenca <= 5 and diferenca >= -5:\n",
    "        print('vc está perto')    \n",
    "    else:\n",
    "        print('errou')   \n",
    "    tentativas = tentativas -1\n",
    "print('fim o numero era:', numero)    \n"
   ]
  }
 ],
 "metadata": {
  "kernelspec": {
   "display_name": "Python 3",
   "language": "python",
   "name": "python3"
  },
  "language_info": {
   "codemirror_mode": {
    "name": "ipython",
    "version": 3
   },
   "file_extension": ".py",
   "mimetype": "text/x-python",
   "name": "python",
   "nbconvert_exporter": "python",
   "pygments_lexer": "ipython3",
   "version": "3.9.9"
  },
  "orig_nbformat": 4
 },
 "nbformat": 4,
 "nbformat_minor": 2
}
