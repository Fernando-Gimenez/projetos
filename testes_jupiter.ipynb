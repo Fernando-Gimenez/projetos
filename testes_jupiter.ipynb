{
 "cells": [
  {
   "cell_type": "code",
   "execution_count": null,
   "metadata": {},
   "outputs": [],
   "source": [
    "import pyautogui\n",
    "import time\n",
    "\n",
    "        \n",
    "pyautogui.press('win')\n",
    "time.sleep(10)\n",
    "pyautogui.write('tibia')\n",
    "time.sleep(4)\n",
    "pyautogui.press('enter')\n",
    "time.sleep(40)\n",
    "pyautogui.write('Fernando1*')\n"
   ]
  },
  {
   "cell_type": "code",
   "execution_count": null,
   "metadata": {},
   "outputs": [
    {
     "name": "stdout",
     "output_type": "stream",
     "text": [
      "Au au!\n",
      "Meu nome é Rex e tenho 5 anos.\n"
     ]
    }
   ],
   "source": [
    "class Cachorro():\n",
    "    def __init__(self, nome, idade):\n",
    "        self.nome = nome\n",
    "        self.idade = idade\n",
    "    def latir(self):\n",
    "        print(\"Au au!\")\n",
    "    def raca(self):\n",
    "        print(f\"Meu nome é {self.nome} e tenho {self.idade} anos.\")\n",
    "        \n",
    "pitbull = Cachorro(\"Rex\", 5)\n",
    "\n",
    "pitbull.latir()\n",
    "pitbull.raca()\n"
   ]
  },
  {
   "cell_type": "code",
   "execution_count": null,
   "metadata": {},
   "outputs": [],
   "source": [
    "import pandas as pd\n",
    "tabela = pd.read_excel(r\"C:\\Users\\Fernando Gimenez\\Desktop\\Diárias IS - FREELA 2023.xlsx\")"
   ]
  },
  {
   "cell_type": "code",
   "execution_count": null,
   "metadata": {},
   "outputs": [],
   "source": [
    "from PIL import Image\n",
    "\n",
    "imagem = Image.open(r\"C:\\Users\\Fernando Gimenez\\Desktop\\WO\\Alignment_Grid.png\")"
   ]
  },
  {
   "cell_type": "code",
   "execution_count": null,
   "metadata": {},
   "outputs": [
    {
     "name": "stdout",
     "output_type": "stream",
     "text": [
      "PNG\n",
      "(5000, 1024)\n",
      "P\n"
     ]
    }
   ],
   "source": [
    "from PIL import Image\n",
    "\n",
    "# Abrir a imagem\n",
    "imagem = Image.open(r\"C:\\Users\\Fernando Gimenez\\Desktop\\WO\\Alignment_Grid.png\")\n",
    "\n",
    "# Mostrar informações da imagem\n",
    "print(imagem.format)\n",
    "print(imagem.size)\n",
    "print(imagem.mode)\n",
    "\n",
    "# Exibir a imagem\n",
    "imagem.show()\n"
   ]
  },
  {
   "cell_type": "code",
   "execution_count": null,
   "metadata": {},
   "outputs": [],
   "source": [
    "\n",
    "from PIL import Image\n",
    "\n",
    "# Abrir a imagem\n",
    "imagem = Image.open(r\"C:\\Users\\Fernando Gimenez\\Desktop\\WO\\Alignment_Grid.png\")\n",
    "\n",
    "# Exibir a imagem\n",
    "imagem.show()"
   ]
  },
  {
   "cell_type": "code",
   "execution_count": null,
   "metadata": {},
   "outputs": [],
   "source": [
    "\n"
   ]
  },
  {
   "cell_type": "code",
   "execution_count": 128,
   "metadata": {},
   "outputs": [
    {
     "data": {
      "text/plain": [
       "'oué'"
      ]
     },
     "execution_count": 128,
     "metadata": {},
     "output_type": "execute_result"
    }
   ],
   "source": [
    "y = 33\n",
    "x = 2\n",
    "soma = y + x\n",
    "\n",
    "def minha_funcao():\n",
    "       if soma >= 33:\n",
    "              return 'oué'\n",
    "minha_funcao()\n",
    "    "
   ]
  },
  {
   "cell_type": "code",
   "execution_count": 69,
   "metadata": {},
   "outputs": [
    {
     "name": "stdout",
     "output_type": "stream",
     "text": [
      "nome: fer\n"
     ]
    }
   ],
   "source": [
    "def nome_func():\n",
    "    nome_func = input('Digite seu nome:')\n",
    "    print('nome:', nome_func)               \n",
    "nome_func()                    \n",
    "\n",
    "\n",
    "\n"
   ]
  },
  {
   "cell_type": "code",
   "execution_count": 22,
   "metadata": {},
   "outputs": [
    {
     "name": "stdout",
     "output_type": "stream",
     "text": [
      "incorreto\n"
     ]
    },
    {
     "data": {
      "text/plain": [
       "('o nome digitado foi;', 'alicee')"
      ]
     },
     "execution_count": 22,
     "metadata": {},
     "output_type": "execute_result"
    }
   ],
   "source": [
    "lista = ['fernando', 'Juliana', 'Alice', 'Rebeca']\n",
    "\n",
    "\n",
    "def lista_comandos():\n",
    "    if nome in lista:\n",
    "        print('nome correto')\n",
    "    else:\n",
    "        print('incorreto')  \n",
    "    return'o nome digitado foi;', nome\n",
    "nome = (input('digite o nome;'))\n",
    "\n",
    "\n",
    "lista_comandos()   \n",
    " \n"
   ]
  },
  {
   "cell_type": "code",
   "execution_count": 2,
   "metadata": {},
   "outputs": [
    {
     "name": "stdout",
     "output_type": "stream",
     "text": [
      "impar\n"
     ]
    }
   ],
   "source": [
    "def par_impar(numero):\n",
    "    if numero % 2 == 0:\n",
    "        return'par'\n",
    "    else:\n",
    "        return'impar'\n",
    "        \n",
    "numero = int(input())\n",
    "print(par_impar(numero))"
   ]
  },
  {
   "cell_type": "code",
   "execution_count": 3,
   "metadata": {},
   "outputs": [],
   "source": [
    "def mostra_ate_zero(numero):\n",
    "  if numero < 3:\n",
    "      print(numero)\n",
    "\n",
    "numero = int(input())\n",
    "mostra_ate_zero(numero)"
   ]
  },
  {
   "cell_type": "code",
   "execution_count": 10,
   "metadata": {},
   "outputs": [
    {
     "name": "stdout",
     "output_type": "stream",
     "text": [
      "9\n",
      "8\n",
      "7\n",
      "6\n",
      "5\n",
      "4\n",
      "3\n",
      "2\n",
      "1\n",
      "0\n"
     ]
    }
   ],
   "source": [
    "def contar_ate_zero(num):\n",
    "    for i in range(num, -1, -1):\n",
    "        print(i)\n",
    "\n",
    "# Entrada do usuário\n",
    "numero = int(input(\"Digite um número inteiro: \"))\n",
    "\n",
    "# Chamando a função e contando até zero\n",
    "contar_ate_zero(numero)\n"
   ]
  },
  {
   "cell_type": "code",
   "execution_count": 13,
   "metadata": {},
   "outputs": [
    {
     "name": "stdout",
     "output_type": "stream",
     "text": [
      "11\n"
     ]
    }
   ],
   "source": [
    "def soma_3_numeros(a, b, c):\n",
    "    return a + b + c\n",
    "    \n",
    " \n",
    "\n",
    "a = int(input())\n",
    "b = int(input())\n",
    "c = int(input())\n",
    "print(soma_3_numeros(a, b, c))"
   ]
  },
  {
   "cell_type": "code",
   "execution_count": 12,
   "metadata": {},
   "outputs": [
    {
     "name": "stdout",
     "output_type": "stream",
     "text": [
      "Zero\n"
     ]
    }
   ],
   "source": [
    "Zero = 0\n",
    "\n",
    "def positivo_negativo_zero(numero):\n",
    "    while (numero == 0):\n",
    "        return 'Zero'\n",
    "    if numero > 0:\n",
    "        return 'Positivo'\n",
    "    if numero < 0:\n",
    "        return 'Negativo'\n",
    "  #Comece seu código aqui\n",
    "\n",
    "numero = int(input())\n",
    "print(positivo_negativo_zero(numero))"
   ]
  },
  {
   "cell_type": "code",
   "execution_count": 4,
   "metadata": {},
   "outputs": [
    {
     "name": "stdout",
     "output_type": "stream",
     "text": [
      "9.68\n"
     ]
    }
   ],
   "source": [
    "#Descrição:\n",
    "\n",
    "#6. Escreva uma função que, dado o valor da conta de um restaurante e um percentual de taxa de serviço, calcule e exiba a gorjeta do garçom, considerando o percentual do valor da conta.\n",
    "\n",
    "#Dicas:\n",
    "\n",
    "#- Utilize o comando float(input()) para obter o valor da conta.\n",
    "#- Utilize o comando int(input()) para obter o valor da taxa de serviço.\n",
    "#- Implemente uma função que calcule a gorjeta do garçon, baseado no percentual do valor da conta definido.\n",
    "#- Mostre na tela o resultado com duas casas decimais, usando o comando print(f\"{resultado:.2f}\").\n",
    "#- Lembrando que o cálculo de porcentagem é: valor*porcentagem/100.\n",
    "\n",
    "#ENTRADA\tSAÍDA ESPERADA\n",
    "#100\n",
    "#15\t            15.00\n",
    "\n",
    "#139.45\n",
    "#12\t            16.73\n",
    "\n",
    "#1529.32\n",
    "#27\t            412.92\n",
    "\n",
    "\n",
    "def gorjeta(valor, porcentagem):\n",
    "    gorjeta = valor_conta * porcentagem /100\n",
    "    return gorjeta\n",
    "  #Comece seu código aqui\n",
    "\n",
    "valor_conta = float(input())\n",
    "porcentagem = int(input())\n",
    "resultado = gorjeta(valor_conta, porcentagem)\n",
    "print(f'{resultado:.2f}')"
   ]
  },
  {
   "cell_type": "code",
   "execution_count": 21,
   "metadata": {},
   "outputs": [
    {
     "name": "stdout",
     "output_type": "stream",
     "text": [
      "4\n"
     ]
    }
   ],
   "source": [
    "def conta_letras(letra_buscada, frase):\n",
    "    contagem = 0 #Inicia a contagem a partir do zero\n",
    "    for a in frase:\n",
    "        if a == letra:\n",
    "          contagem += 1\n",
    "    return contagem \n",
    "\n",
    "letra = input()\n",
    "frase = input()\n",
    "saida = conta_letras(letra, frase)\n",
    "print(saida)"
   ]
  },
  {
   "cell_type": "code",
   "execution_count": 21,
   "metadata": {},
   "outputs": [
    {
     "name": "stdout",
     "output_type": "stream",
     "text": [
      "1\n"
     ]
    }
   ],
   "source": [
    "# resposta professor\n",
    "\n",
    "def conta_letras(letra_buscada, frase):\n",
    "  contagem = 0 #Inicia a contagem a partir do zero\n",
    "  for letra_atual in frase:\n",
    "    if letra_atual == letra_buscada:\n",
    "      contagem += 1\n",
    "  return contagem\n",
    "\n",
    "letra = input()\n",
    "frase = input()\n",
    "saida = conta_letras(letra, frase)\n",
    "print(saida)"
   ]
  },
  {
   "cell_type": "code",
   "execution_count": 5,
   "metadata": {},
   "outputs": [
    {
     "name": "stdout",
     "output_type": "stream",
     "text": [
      "True\n"
     ]
    }
   ],
   "source": [
    "# Descrição:\n",
    "\n",
    "# 8. Crie uma função que receba duas palavras e retorne \"True\" caso a primeira palavra seja um prefixo da segunda, e \"False\" caso contrário.\n",
    "# Exemplo: ’programa’ é prefixo de \"programador\", pois todas as letras de 'programa' correspondem às primeiras letras de \"programador\".\n",
    "\n",
    "# Dicas:\n",
    "\n",
    "# - Utilize o comando input() para obter a palavra1.\n",
    "# - Utilize o comando input() para obter a palavra2.\n",
    "# - Implemente uma função que identifique se a palavra1 é prefixo da palavra 2, e retorne o resultado obtido.\n",
    "# - Mostre na tela o resultado, usando o comando print().\n",
    "\n",
    "# resposta professor\n",
    "def verifica_prefixo(palavra1, palavra2):\n",
    "  tamanho = len(palavra1)\n",
    "  for i in range (tamanho):\n",
    "    if palavra1[i] != palavra2[i]:\n",
    "      return False\n",
    "  return True\n",
    "      \n",
    "\n",
    "\n",
    "palavra1 = input()\n",
    "palavra2 = input()\n",
    "resultado = verifica_prefixo(palavra1, palavra2)\n",
    "print(resultado)"
   ]
  },
  {
   "cell_type": "code",
   "execution_count": 2,
   "metadata": {},
   "outputs": [
    {
     "name": "stdout",
     "output_type": "stream",
     "text": [
      "5\n",
      "['Fábio', 'Bruno', 'Mariza', 'Sérgio', 'Anna']\n"
     ]
    }
   ],
   "source": [
    "programadores = ['Fábio', 'Bruno', 'Mariza', 'Sérgio', 'Anna']\n",
    "print(len(programadores))\n",
    "print(programadores)"
   ]
  },
  {
   "cell_type": "code",
   "execution_count": 19,
   "metadata": {},
   "outputs": [
    {
     "name": "stdout",
     "output_type": "stream",
     "text": [
      "True\n"
     ]
    }
   ],
   "source": [
    "def prefixo(palavra1, palavra2):\n",
    "  tamanho = len(palavra1)\n",
    "  for i in range (tamanho):\n",
    "    if palavra1[i] != palavra2[i]:\n",
    "      return False\n",
    "  return True\n",
    "        \n",
    "palavra1 = (input())            \n",
    "palavra2 = (input())  \n",
    "resultado = prefixo(palavra1, palavra2)\n",
    "print(resultado)\n",
    "\n",
    "\n"
   ]
  },
  {
   "cell_type": "code",
   "execution_count": null,
   "metadata": {},
   "outputs": [],
   "source": [
    "dir(list)"
   ]
  },
  {
   "cell_type": "code",
   "execution_count": null,
   "metadata": {},
   "outputs": [],
   "source": [
    "dir(len)"
   ]
  },
  {
   "cell_type": "code",
   "execution_count": null,
   "metadata": {},
   "outputs": [],
   "source": [
    "dir(print)"
   ]
  },
  {
   "cell_type": "code",
   "execution_count": 13,
   "metadata": {},
   "outputs": [
    {
     "name": "stdout",
     "output_type": "stream",
     "text": [
      "tarefa 0 funcionario 0\n",
      "tarefa 1 funcionario 1\n",
      "tarefa 2 funcionario 0\n",
      "tarefa 3 funcionario 1\n"
     ]
    }
   ],
   "source": [
    "#OPERADORES DE RESTO DA DIVISÃO %%!\n",
    "\n",
    "\n",
    "funcionarios = 2\n",
    "\n",
    "print('tarefa', 0, 'funcionario', 0%funcionarios)\n",
    "print('tarefa', 1, 'funcionario', 1%funcionarios)\n",
    "print('tarefa', 2, 'funcionario', 2%funcionarios)\n",
    "print('tarefa', 3, 'funcionario', 3%funcionarios)\n",
    "\n",
    "\n",
    "\n",
    "\n",
    "\n",
    "\n"
   ]
  },
  {
   "cell_type": "code",
   "execution_count": 45,
   "metadata": {},
   "outputs": [
    {
     "name": "stdout",
     "output_type": "stream",
     "text": [
      "1\n",
      "3\n",
      "5\n",
      "7\n",
      "9\n"
     ]
    }
   ],
   "source": [
    "'''difernças entre WHILE E FOR'''\n",
    "\n",
    "\n",
    "'''contador = 0\n",
    "\n",
    "while contador <=100:\n",
    "    print(contador)\n",
    "    contador = contador + 1'''\n",
    "    \n",
    "    \n",
    "     \n",
    "  \n",
    "for x in range(1, 11, 2):\n",
    "    print(x)\n",
    "    \n",
    "      "
   ]
  }
 ],
 "metadata": {
  "kernelspec": {
   "display_name": "base",
   "language": "python",
   "name": "python3"
  },
  "language_info": {
   "codemirror_mode": {
    "name": "ipython",
    "version": 3
   },
   "file_extension": ".py",
   "mimetype": "text/x-python",
   "name": "python",
   "nbconvert_exporter": "python",
   "pygments_lexer": "ipython3",
   "version": "3.9.9"
  },
  "orig_nbformat": 4
 },
 "nbformat": 4,
 "nbformat_minor": 2
}
